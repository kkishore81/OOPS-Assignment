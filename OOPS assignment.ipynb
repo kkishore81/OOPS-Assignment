{
 "cells": [
  {
   "cell_type": "code",
   "execution_count": 3,
   "id": "ef948806-cbff-402c-9561-64da09afb861",
   "metadata": {},
   "outputs": [],
   "source": [
    "# Create a vehicle class with an init method having instance variables as name_of_vehicle, max_speed\n",
    "# and average_of_vehicle."
   ]
  },
  {
   "cell_type": "code",
   "execution_count": 4,
   "id": "eabb385b-cbef-4da4-84d6-a31995dcd411",
   "metadata": {},
   "outputs": [],
   "source": [
    "class car :\n",
    "    def __init__(self , name , max_speed , average_of_vechile, ) : \n",
    "        \n",
    "        self.__name = name \n",
    "        self.__max_speed = max_speed\n",
    "        self.__average_of_vechile = average_of_vechile\n",
    "        \n",
    "    def return_student_deetials(self) : \n",
    "        return self.student_id ,self.phone_number ,self.email_id\n",
    "   "
   ]
  },
  {
   "cell_type": "code",
   "execution_count": 16,
   "id": "312374f6-95c7-4807-b179-ed17a662160b",
   "metadata": {},
   "outputs": [],
   "source": [
    "class car :\n",
    "    \n",
    "    def __init__(self ,car_name , max_speed , average_of_vechile ):\n",
    "        self.car_name = car_name\n",
    "        self.max_speed = max_speed\n",
    "        self.average_of_vechile = average_of_vechile\n",
    "    \n",
    "    def return_car_details(self) : \n",
    "        return self.car_name , max_speed , average_of_vechile"
   ]
  },
  {
   "cell_type": "code",
   "execution_count": 18,
   "id": "6083d2f2-c94c-4a96-9d5b-dfc849bc7b62",
   "metadata": {},
   "outputs": [],
   "source": [
    "class Car:\n",
    "    def __init__(self, car_name, max_speed, average_of_vechile):\n",
    "        self.car_name = car_name\n",
    "        self.max_speed = max_speed\n",
    "        self.average_of_vechile = average_of_vechile\n",
    "    \n",
    "    def return_car_details(self):\n",
    "        return self.car_name, self.max_speed, self.average_of_vechile"
   ]
  },
  {
   "cell_type": "code",
   "execution_count": 21,
   "id": "9d3b03c2-c5da-4faa-a24b-b8f65eba8304",
   "metadata": {},
   "outputs": [],
   "source": [
    "my_car = Car(\"maruti\", 150, 25)"
   ]
  },
  {
   "cell_type": "code",
   "execution_count": 22,
   "id": "31f2d8e8-acde-4bc1-acc8-e81b69b94b24",
   "metadata": {},
   "outputs": [
    {
     "data": {
      "text/plain": [
       "'maruti'"
      ]
     },
     "execution_count": 22,
     "metadata": {},
     "output_type": "execute_result"
    }
   ],
   "source": [
    "my_car.car_name"
   ]
  },
  {
   "cell_type": "code",
   "execution_count": 25,
   "id": "79d74be4-e5d9-4d48-b80a-537f57c9f7c4",
   "metadata": {},
   "outputs": [],
   "source": [
    "#Q2\"Create a child class car from the vehicle class created in Que 1, which will inherit the vehicle class.\n",
    "#Create a method named seating_capacity which takes capacity as an argument and returns the name of\n",
    "#the vehicle and its seating capacity.\""
   ]
  },
  {
   "cell_type": "code",
   "execution_count": 26,
   "id": "4bd41791-89f5-495e-8be9-0a5b8725cb1c",
   "metadata": {},
   "outputs": [],
   "source": [
    "class Vehicle:\n",
    "    def __init__(self, car_name, max_speed, average_of_vechile):\n",
    "        self.car_name = car_name\n",
    "        self.max_speed = max_speed\n",
    "        self.average_of_vechile = average_of_vechile\n",
    "    \n",
    "    def return_car_details(self):\n",
    "        return self.car_name, self.max_speed, self.average_of_vechile\n",
    "\n",
    "class Car(Vehicle):\n",
    "    def seating_capacity(self, capacity):\n",
    "        return f\"{self.car_name} has a seating capacity of {capacity} people.\""
   ]
  },
  {
   "cell_type": "code",
   "execution_count": 30,
   "id": "24fd17b1-2cab-41d1-97f7-7450f1e9675c",
   "metadata": {},
   "outputs": [
    {
     "name": "stdout",
     "output_type": "stream",
     "text": [
      "maruti has a seating capacity of 5 people.\n"
     ]
    }
   ],
   "source": [
    "my_car = Car(\"maruti\", 150, 25)\n",
    "capacity = 5\n",
    "car_capacity = my_car.seating_capacity(capacity)\n",
    "print(car_capacity)"
   ]
  },
  {
   "cell_type": "code",
   "execution_count": 31,
   "id": "250251ed-7f38-4d6d-a6bd-41e172e7afb7",
   "metadata": {},
   "outputs": [],
   "source": [
    "#Q3 What is multiple inheritance? Write a python code to demonstrate multiple inheritance."
   ]
  },
  {
   "cell_type": "code",
   "execution_count": 35,
   "id": "f2a098ad-def5-4014-957c-9347ba191f7d",
   "metadata": {},
   "outputs": [],
   "source": [
    "# \"Multiple inheritance t allows a class to inherit characteristics and behavior from multiple parent classes. \n",
    "#In a multiple inheritance scenario, a class can inherit from two or more parent classes"
   ]
  },
  {
   "cell_type": "code",
   "execution_count": 41,
   "id": "ef4dcefd-32da-4079-bd0b-f83fb01266b6",
   "metadata": {},
   "outputs": [],
   "source": [
    "class class1 :\n",
    "    def test_class1(self) : \n",
    "        print(\"this is my class1 \" )"
   ]
  },
  {
   "cell_type": "code",
   "execution_count": 42,
   "id": "a9437f0d-c58e-41bd-a979-4867063dd0d7",
   "metadata": {},
   "outputs": [],
   "source": [
    "class class2(class1) : \n",
    "    def test_class2(self) : \n",
    "        print(\"this is my class2\" )"
   ]
  },
  {
   "cell_type": "code",
   "execution_count": 44,
   "id": "7dc90e75-9b7a-4615-83a1-26839b5c0db8",
   "metadata": {},
   "outputs": [],
   "source": [
    "class class3(class2) : \n",
    "    def test_class3(self) : \n",
    "        print(\"this is my class3 \")"
   ]
  },
  {
   "cell_type": "code",
   "execution_count": 45,
   "id": "f500e785-9190-4cc9-878a-65d5c40566b8",
   "metadata": {},
   "outputs": [],
   "source": [
    "obj_class3  = class3()"
   ]
  },
  {
   "cell_type": "code",
   "execution_count": 47,
   "id": "b9a0ce5c-1528-45ce-934c-643d93441b0d",
   "metadata": {},
   "outputs": [
    {
     "name": "stdout",
     "output_type": "stream",
     "text": [
      "this is my class1 \n"
     ]
    }
   ],
   "source": [
    "obj_class3.test_class1()"
   ]
  },
  {
   "cell_type": "code",
   "execution_count": 49,
   "id": "4329e34e-1b83-4f9e-9104-e41904b669e2",
   "metadata": {},
   "outputs": [],
   "source": [
    "#Q4 What are getter and setter in python? Create a class and create a getter and a setter method in this\n",
    "#class."
   ]
  },
  {
   "cell_type": "code",
   "execution_count": null,
   "id": "42a3f125-b398-42e8-b546-699ee39d63a7",
   "metadata": {},
   "outputs": [],
   "source": [
    "#getters and setters are methods used to access and modify the values of private attributes of a class \n",
    "# Getters are methods that return the value of an attribute.\n",
    "#Setters are methods that set the value of an attribute.\n",
    "# this is also known as encapsulation"
   ]
  },
  {
   "cell_type": "code",
   "execution_count": 50,
   "id": "b015164d-3647-4c20-a3a0-b9ed3cc80d75",
   "metadata": {},
   "outputs": [],
   "source": [
    "class car :\n",
    "    def __init__(self , year , make , model, speed ) : \n",
    "        \n",
    "        self.__year = year \n",
    "        self.__make = make\n",
    "        self.__model = model\n",
    "        self.__speed = 0\n",
    "        \n",
    "    def set_speed(self,speed) : \n",
    "        self.__speed = 0 if speed < 0 else speed\n",
    "        \n",
    "    def get_speed(self)  : \n",
    "        return self.__speed"
   ]
  },
  {
   "cell_type": "code",
   "execution_count": 51,
   "id": "078100c7-0add-4151-a653-485ecf996b92",
   "metadata": {},
   "outputs": [],
   "source": [
    "c = car(2021 , \"toyata\" , \"innova\" , 12)"
   ]
  },
  {
   "cell_type": "code",
   "execution_count": 52,
   "id": "61a52d9c-c472-4bac-b37b-1e704f9d4588",
   "metadata": {},
   "outputs": [
    {
     "data": {
      "text/plain": [
       "2021"
      ]
     },
     "execution_count": 52,
     "metadata": {},
     "output_type": "execute_result"
    }
   ],
   "source": [
    "c._car__year"
   ]
  },
  {
   "cell_type": "code",
   "execution_count": 53,
   "id": "8c28a3ac-5861-489a-950e-7414e0ba4236",
   "metadata": {},
   "outputs": [],
   "source": [
    "c.set_speed(-3245)"
   ]
  },
  {
   "cell_type": "code",
   "execution_count": 54,
   "id": "5b183923-6327-480b-a5d3-3693cb436e98",
   "metadata": {},
   "outputs": [
    {
     "data": {
      "text/plain": [
       "0"
      ]
     },
     "execution_count": 54,
     "metadata": {},
     "output_type": "execute_result"
    }
   ],
   "source": [
    "c.get_speed()"
   ]
  },
  {
   "cell_type": "code",
   "execution_count": 55,
   "id": "73df943e-4039-43ab-9fff-c61e339793c2",
   "metadata": {},
   "outputs": [],
   "source": [
    "c.set_speed(234)"
   ]
  },
  {
   "cell_type": "code",
   "execution_count": 56,
   "id": "37dda5ac-127f-461a-97e1-bf6a872942bd",
   "metadata": {},
   "outputs": [
    {
     "data": {
      "text/plain": [
       "234"
      ]
     },
     "execution_count": 56,
     "metadata": {},
     "output_type": "execute_result"
    }
   ],
   "source": [
    "c.get_speed()"
   ]
  },
  {
   "cell_type": "code",
   "execution_count": null,
   "id": "e9c5de2c-194d-43f6-850b-f46499918613",
   "metadata": {},
   "outputs": [],
   "source": [
    "# Q5.What is method overriding in python? Write a python code to demonstrate method overriding."
   ]
  },
  {
   "cell_type": "code",
   "execution_count": null,
   "id": "5fe2c3c9-0b7b-4a32-8c81-e407485f9558",
   "metadata": {},
   "outputs": [],
   "source": []
  },
  {
   "cell_type": "code",
   "execution_count": 57,
   "id": "74e464ed-48b2-466c-9137-570c94f5f346",
   "metadata": {},
   "outputs": [],
   "source": [
    "class data_science:\n",
    "    \n",
    "    def syllabus(self) : \n",
    "        print(\"this is my syllabus for data science masters \")"
   ]
  },
  {
   "cell_type": "code",
   "execution_count": 58,
   "id": "6d764345-487c-4d3e-8146-8b13fabb0fbd",
   "metadata": {},
   "outputs": [],
   "source": [
    "class web_dev:\n",
    "    \n",
    "    def syllabus(self) : \n",
    "        print(\"this is  my subllabus for web dev\" )"
   ]
  },
  {
   "cell_type": "code",
   "execution_count": 59,
   "id": "aad4da26-fc88-43a1-8faf-5d3cd2e9c847",
   "metadata": {},
   "outputs": [],
   "source": [
    "def class_parcer(class_obj):\n",
    "    for i in class_obj : \n",
    "        i.syllabus()"
   ]
  },
  {
   "cell_type": "code",
   "execution_count": 60,
   "id": "654e0ba9-5d79-453d-975b-06138b2538c2",
   "metadata": {},
   "outputs": [],
   "source": [
    "data_science = data_science()"
   ]
  },
  {
   "cell_type": "code",
   "execution_count": 61,
   "id": "167799ca-8a7d-4c1d-a9f8-8124492c6c0e",
   "metadata": {},
   "outputs": [],
   "source": [
    "web_dev = web_dev()"
   ]
  },
  {
   "cell_type": "code",
   "execution_count": 62,
   "id": "cf1d4fa0-5620-4345-b399-eb6e0b9885ff",
   "metadata": {},
   "outputs": [],
   "source": [
    "class_obj = [data_science , web_dev]"
   ]
  },
  {
   "cell_type": "code",
   "execution_count": 63,
   "id": "0d02dc8c-a867-4f55-be6b-86e837268a34",
   "metadata": {},
   "outputs": [
    {
     "name": "stdout",
     "output_type": "stream",
     "text": [
      "this is my syllabus for data science masters \n",
      "this is  my subllabus for web dev\n"
     ]
    }
   ],
   "source": [
    "class_parcer(class_obj)"
   ]
  },
  {
   "cell_type": "code",
   "execution_count": null,
   "id": "9886faff-47a6-4e4e-9fa7-35b28b0b1651",
   "metadata": {},
   "outputs": [],
   "source": []
  }
 ],
 "metadata": {
  "kernelspec": {
   "display_name": "Python 3 (ipykernel)",
   "language": "python",
   "name": "python3"
  },
  "language_info": {
   "codemirror_mode": {
    "name": "ipython",
    "version": 3
   },
   "file_extension": ".py",
   "mimetype": "text/x-python",
   "name": "python",
   "nbconvert_exporter": "python",
   "pygments_lexer": "ipython3",
   "version": "3.10.8"
  }
 },
 "nbformat": 4,
 "nbformat_minor": 5
}
